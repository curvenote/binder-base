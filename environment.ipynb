{
 "cells": [
  {
   "cell_type": "markdown",
   "id": "04ded9d2-7c75-4b66-aadc-917621f2c6f8",
   "metadata": {},
   "source": [
    "## Test Import of all required packages\n",
    "\n",
    "#### Base Packages"
   ]
  },
  {
   "cell_type": "code",
   "execution_count": 1,
   "id": "8101a7cf-43bd-447f-82e8-8bafc510d10b",
   "metadata": {},
   "outputs": [],
   "source": [
    "import ipykernel\n",
    "import numpy\n",
    "import scipy\n",
    "import pandas"
   ]
  },
  {
   "cell_type": "markdown",
   "id": "a35ecb0b-ecfd-4378-aecd-dacc4d75643d",
   "metadata": {},
   "source": [
    "#### Visualization"
   ]
  },
  {
   "cell_type": "code",
   "execution_count": 2,
   "id": "111b3a39-4024-4884-ab56-da868d219b74",
   "metadata": {},
   "outputs": [],
   "source": [
    "import matplotlib\n",
    "import seaborn\n",
    "import plotly\n",
    "import altair\n",
    "import colorcet\n",
    "import cmocean"
   ]
  },
  {
   "cell_type": "markdown",
   "id": "0264d3b8-83cd-486b-9c11-f095e7aad245",
   "metadata": {},
   "source": [
    "#### Widgets"
   ]
  },
  {
   "cell_type": "code",
   "execution_count": 3,
   "id": "e8033db8-f2cb-48c7-8dcf-9423cdd67f9b",
   "metadata": {},
   "outputs": [],
   "source": [
    "import ipywidgets\n",
    "import ipympl\n",
    "import ipyleaflet\n",
    "import pythreejs\n",
    "import folium"
   ]
  },
  {
   "cell_type": "markdown",
   "id": "a970e0f9-18aa-44a1-b420-a51a7c9ba4a6",
   "metadata": {},
   "source": [
    "#### Mapping / GIS"
   ]
  },
  {
   "cell_type": "code",
   "execution_count": 6,
   "id": "50c51dbd-53c6-4545-a910-c6c6f992ccea",
   "metadata": {},
   "outputs": [],
   "source": [
    "import shapely\n",
    "import localtileserver\n",
    "import jupyter_server_proxy"
   ]
  },
  {
   "cell_type": "markdown",
   "id": "7164c735-adbe-4948-a7cc-a84fb23b6ac7",
   "metadata": {},
   "source": [
    "#### Geoscience"
   ]
  },
  {
   "cell_type": "code",
   "execution_count": 7,
   "id": "c8b25c41-3982-46dc-92e4-1b89e730ec78",
   "metadata": {},
   "outputs": [],
   "source": [
    "import empymod\n",
    "import geoana"
   ]
  },
  {
   "cell_type": "code",
   "execution_count": null,
   "id": "5b631323-b14c-470a-a7a9-049ce34de145",
   "metadata": {},
   "outputs": [],
   "source": []
  }
 ],
 "metadata": {
  "kernelspec": {
   "display_name": "Python 3 (ipykernel)",
   "language": "python",
   "name": "python3"
  },
  "language_info": {
   "codemirror_mode": {
    "name": "ipython",
    "version": 3
   },
   "file_extension": ".py",
   "mimetype": "text/x-python",
   "name": "python",
   "nbconvert_exporter": "python",
   "pygments_lexer": "ipython3",
   "version": "3.9.10"
  }
 },
 "nbformat": 4,
 "nbformat_minor": 5
}
